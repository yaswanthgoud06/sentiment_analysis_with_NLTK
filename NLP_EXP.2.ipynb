{
 "cells": [
  {
   "cell_type": "code",
   "execution_count": 2,
   "id": "b28efa61-0091-49c0-aa50-75c043e07407",
   "metadata": {},
   "outputs": [],
   "source": [
    "import pandas as pd\n",
    "import re\n",
    "import string\n",
    "import nltk\n",
    "from nltk.corpus import stopwords\n",
    "from nltk.tokenize import word_tokenize\n",
    "from nltk.sentiment.vader import SentimentIntensityAnalyzer"
   ]
  },
  {
   "cell_type": "code",
   "execution_count": 3,
   "id": "cc9050a1-dc99-4fc9-b711-f7921901328e",
   "metadata": {},
   "outputs": [
    {
     "name": "stderr",
     "output_type": "stream",
     "text": [
      "[nltk_data] Error loading vader_lexicon: Remote end closed connection\n",
      "[nltk_data]     without response\n",
      "[nltk_data] Downloading package stopwords to\n",
      "[nltk_data]     C:\\Users\\yaswa\\AppData\\Roaming\\nltk_data...\n",
      "[nltk_data]   Package stopwords is already up-to-date!\n",
      "[nltk_data] Downloading package punkt to\n",
      "[nltk_data]     C:\\Users\\yaswa\\AppData\\Roaming\\nltk_data...\n",
      "[nltk_data]   Package punkt is already up-to-date!\n"
     ]
    },
    {
     "data": {
      "text/plain": [
       "True"
      ]
     },
     "execution_count": 3,
     "metadata": {},
     "output_type": "execute_result"
    }
   ],
   "source": [
    "nltk.download('vader_lexicon')\n",
    "nltk.download('stopwords')\n",
    "nltk.download('punkt')"
   ]
  },
  {
   "cell_type": "code",
   "execution_count": 4,
   "id": "a6e94a89-c4e8-433e-955a-ca1865a49bb0",
   "metadata": {},
   "outputs": [],
   "source": [
    "df=pd.read_csv('NLP.csv')"
   ]
  },
  {
   "cell_type": "code",
   "execution_count": 5,
   "id": "9d9293a8-324e-4ce6-8984-9b5d60fdccfe",
   "metadata": {},
   "outputs": [
    {
     "data": {
      "text/html": [
       "<div>\n",
       "<style scoped>\n",
       "    .dataframe tbody tr th:only-of-type {\n",
       "        vertical-align: middle;\n",
       "    }\n",
       "\n",
       "    .dataframe tbody tr th {\n",
       "        vertical-align: top;\n",
       "    }\n",
       "\n",
       "    .dataframe thead th {\n",
       "        text-align: right;\n",
       "    }\n",
       "</style>\n",
       "<table border=\"1\" class=\"dataframe\">\n",
       "  <thead>\n",
       "    <tr style=\"text-align: right;\">\n",
       "      <th></th>\n",
       "      <th>text</th>\n",
       "    </tr>\n",
       "  </thead>\n",
       "  <tbody>\n",
       "    <tr>\n",
       "      <th>0</th>\n",
       "      <td>#Darling is a Rom-Com with no purpose or aim. ...</td>\n",
       "    </tr>\n",
       "    <tr>\n",
       "      <th>1</th>\n",
       "      <td>#Darling Boring 1st Half!   The comedy is arti...</td>\n",
       "    </tr>\n",
       "    <tr>\n",
       "      <th>2</th>\n",
       "      <td>Showtime: #Darling</td>\n",
       "    </tr>\n",
       "    <tr>\n",
       "      <th>3</th>\n",
       "      <td>#Indian2 is an outdated and tedious movie. Tho...</td>\n",
       "    </tr>\n",
       "    <tr>\n",
       "      <th>4</th>\n",
       "      <td>🙄🙄</td>\n",
       "    </tr>\n",
       "  </tbody>\n",
       "</table>\n",
       "</div>"
      ],
      "text/plain": [
       "                                                text\n",
       "0  #Darling is a Rom-Com with no purpose or aim. ...\n",
       "1  #Darling Boring 1st Half!   The comedy is arti...\n",
       "2                                 Showtime: #Darling\n",
       "3  #Indian2 is an outdated and tedious movie. Tho...\n",
       "4                                                 🙄🙄"
      ]
     },
     "execution_count": 5,
     "metadata": {},
     "output_type": "execute_result"
    }
   ],
   "source": [
    "df.head()"
   ]
  },
  {
   "cell_type": "code",
   "execution_count": 17,
   "id": "ba6938ed-8318-4b57-b4d4-e0776ee09540",
   "metadata": {},
   "outputs": [],
   "source": [
    "def preprocessing(text):\n",
    "    text=text.lower()\n",
    "    text=re.sub(r'#\\w+','',text)\n",
    "    text=text.encode('ascii','ignore').decode('ascii')\n",
    "    text=text.translate(str.maketrans('','',string.punctuation))\n",
    "    stop_words=set(stopwords.words('english'))\n",
    "    word_tokens=word_tokenize(text)\n",
    "    filtered_text=[word for word in word_tokens if word not in stop_words]\n",
    "    return' '.join(filtered_text)"
   ]
  },
  {
   "cell_type": "code",
   "execution_count": 18,
   "id": "d64c42c4-f38a-49f0-8181-55ee24d5e0a7",
   "metadata": {},
   "outputs": [],
   "source": [
    "df['cleaned_tweet']=df['text'].apply(preprocessing)"
   ]
  },
  {
   "cell_type": "code",
   "execution_count": 20,
   "id": "2f3ce6c8-ad64-489a-b140-d67fcc766d49",
   "metadata": {},
   "outputs": [
    {
     "data": {
      "text/plain": [
       "0    romcom purpose aim film tries light hearted en...\n",
       "1    boring 1st half comedy artificial work far sto...\n",
       "2                                             showtime\n",
       "3    outdated tedious movie though movie tries give...\n",
       "4                                                     \n",
       "Name: cleaned_tweet, dtype: object"
      ]
     },
     "execution_count": 20,
     "metadata": {},
     "output_type": "execute_result"
    }
   ],
   "source": [
    "df['cleaned_tweet'].head()"
   ]
  },
  {
   "cell_type": "code",
   "execution_count": 21,
   "id": "7dc8cc12-1a4a-42f2-836e-7c46136671f3",
   "metadata": {},
   "outputs": [],
   "source": [
    "sid=SentimentIntensityAnalyzer()\n"
   ]
  },
  {
   "cell_type": "code",
   "execution_count": 24,
   "id": "decc7f1c-eb56-454e-8a3f-e0c6ca326502",
   "metadata": {},
   "outputs": [],
   "source": [
    "def analyze_sentiment(text):\n",
    "    sentiment_scores = sid.polarity_scores(text)\n",
    "    if sentiment_scores['compound'] >= 0.05:\n",
    "        return 'Positive'\n",
    "    elif sentiment_scores['compound'] <= -0.05:\n",
    "        return 'Negative'\n",
    "    else:\n",
    "        return 'Neutral'"
   ]
  },
  {
   "cell_type": "code",
   "execution_count": 25,
   "id": "5eddbe6b-e7a8-43a2-ad14-b04dcb9b6786",
   "metadata": {},
   "outputs": [],
   "source": [
    "df['sentiment'] = df['cleaned_tweet'].apply(analyze_sentiment)"
   ]
  },
  {
   "cell_type": "code",
   "execution_count": 27,
   "id": "e395788f-f58d-4f42-8550-d116af845525",
   "metadata": {},
   "outputs": [
    {
     "name": "stdout",
     "output_type": "stream",
     "text": [
      "\n",
      "Tweets with Sentiment Analysis:\n",
      "                                                 text  \\\n",
      "0   #Darling is a Rom-Com with no purpose or aim. ...   \n",
      "1   #Darling Boring 1st Half!   The comedy is arti...   \n",
      "2                                  Showtime: #Darling   \n",
      "3   #Indian2 is an outdated and tedious movie. Tho...   \n",
      "4                                                  🙄🙄   \n",
      "5   Kamal Hassan is doing well. Grandeur and Produ...   \n",
      "6   #Indian2 Strictly Average 1st Half!   Film sta...   \n",
      "7                   Showtime: #Indian2 #Bharateeyudu2   \n",
      "8   Kudos to the whole of team of Kalki for attemp...   \n",
      "9   #Kalki2898AD is a larger than life Sci-FI Acti...   \n",
      "10  Interval Block stands out the most from the 1s...   \n",
      "11  #Kalki2898AD Passable 1st Half!  The visuals a...   \n",
      "12                      Showtime: #Kalki2898AD #Kalki   \n",
      "13  #Indian2 Trailer makes very little impact. Rem...   \n",
      "14  #KALKI2898AD‌ 2nd Trailer cut delivers again s...   \n",
      "15  #Manamey is an inferior movie that tries to fa...   \n",
      "16                                 Showtime: #Manamey   \n",
      "17  #GangsofGodavari is a below par rural gangster...   \n",
      "18                         Showtime: #GangsofGodavari   \n",
      "19  #BujjiAndBhairava hints at a one of a kind fut...   \n",
      "20  #LoveMe is a silly ghost themed loved story th...   \n",
      "21                                  Showtime: #LoveMe   \n",
      "22  #Chamkila is a captivating biopic that leaves ...   \n",
      "23  #VarshangalkkuShesham is a drama full of soul ...   \n",
      "24  #BadeMiyanChoteMiyan is a run-of-the-mill acti...   \n",
      "25  #Pushpa2TheRule Teaser felt more like a glimps...   \n",
      "26  It is high time that VD steps out of his comfo...   \n",
      "27  #FamilyStar is an inferior template rom-com fa...   \n",
      "28  #FamilyStar Below Par 1st Half!   So far it ha...   \n",
      "29                              Showtime: #FamilyStar   \n",
      "30  #TheGreatestOfAllTime North America Distributi...   \n",
      "31  #TilluSquare A Decent Entertainer that has fun...   \n",
      "32  #TilluSquare Decent 1st Half!  Siddhu is back ...   \n",
      "33                             Showtime: #TilluSquare   \n",
      "34  #OmBheemBush is a passable comedy entertainer ...   \n",
      "35                             Showtime: #OmBheemBush   \n",
      "36  #Premalu is a Breezy Rom-Com that is enjoyable...   \n",
      "37  #ManjummelBoys A Heartwarming Survival Thrille...   \n",
      "38                           Showtime: #ManjummelBoys   \n",
      "39  #Hanuman North America Closing Reported Gross ...   \n",
      "40  #OperationValentine An Aerial Action Film that...   \n",
      "41  #OoruPeruBhairavaKona A Subpar Fantasy Thrille...   \n",
      "42                    Showtime: #OoruPeruBhairavaKona   \n",
      "43  #Animal North America Closing Reported Gross [...   \n",
      "44  #Eagle An Ordinary Action Thriller with a belo...   \n",
      "45  #Eagle Below Average 1st half!  Interesting st...   \n",
      "46                                   Showtime: #Eagle   \n",
      "47  #AmbajipetaMarriageBand A Predictable and Blan...   \n",
      "48  #AmbajipetaMarriageBand Average 1st Half!  Eng...   \n",
      "49                  Showtime: #AmbajipetaMarriageBand   \n",
      "50  #Saindhav A Stylish Action Drama with standout...   \n",
      "51  #Saindhav Decent 1st Half!   First 30mins runs...   \n",
      "52                                Showtime: #Saindhav   \n",
      "53  This movie will be a textbook on how to use  V...   \n",
      "54  #Hanuman A Well Made Superhero Story told with...   \n",
      "55  #Hanuman Good 1st Half!  Director is doing a g...   \n",
      "56                                 Showtime: #Hanuman   \n",
      "\n",
      "                                        cleaned_tweet sentiment  \n",
      "0   romcom purpose aim film tries light hearted en...  Negative  \n",
      "1   boring 1st half comedy artificial work far sto...  Positive  \n",
      "2                                            showtime   Neutral  \n",
      "3   outdated tedious movie though movie tries give...  Positive  \n",
      "4                                                       Neutral  \n",
      "5   kamal hassan well grandeur production values s...  Positive  \n",
      "6   strictly average 1st half film starts well bui...  Positive  \n",
      "7                                            showtime   Neutral  \n",
      "8   kudos whole team kalki attempting bring never ...  Positive  \n",
      "9   larger life scifi action experience visuals wo...  Positive  \n",
      "10                     interval block stands 1st half  Negative  \n",
      "11  passable 1st half visuals set something seen i...  Positive  \n",
      "12                                           showtime   Neutral  \n",
      "13  trailer makes little impact reminiscent movies...  Positive  \n",
      "14  2nd trailer cut delivers showing visual specta...  Positive  \n",
      "15  inferior movie tries fall feel good familylove...   Neutral  \n",
      "16                                           showtime   Neutral  \n",
      "17  par rural gangster drama potential set falters...  Positive  \n",
      "18                                           showtime   Neutral  \n",
      "19  hints one kind futuristic set seen indian cine...  Positive  \n",
      "20  silly ghost themed loved story interesting cor...  Negative  \n",
      "21                                           showtime   Neutral  \n",
      "22  captivating biopic leaves lasting impact apart...  Positive  \n",
      "23  drama full soul heartwarming moments throughou...  Positive  \n",
      "24  runofthemill action film alright parts doesnt ...  Negative  \n",
      "25  teaser felt like glimpse allu arjuns avatar ab...  Positive  \n",
      "26  high time vd steps comfort zone stops monotono...  Positive  \n",
      "27  inferior template romcom family movie timepass...  Positive  \n",
      "28  par 1st half far slow serial like feel moments...  Positive  \n",
      "29                                           showtime   Neutral  \n",
      "30  north america distribution rights acquired ham...  Positive  \n",
      "31  decent entertainer fun moments throughout till...  Positive  \n",
      "32  decent 1st half siddhu back trademark energeti...  Positive  \n",
      "33                                           showtime   Neutral  \n",
      "34  passable comedy entertainer filled contemporar...  Positive  \n",
      "35                                           showtime   Neutral  \n",
      "36  breezy romcom enjoyable throughout cliched fee...  Positive  \n",
      "37  heartwarming survival thriller takes time get ...  Positive  \n",
      "38                                           showtime   Neutral  \n",
      "39  north america closing reported gross final 531...  Positive  \n",
      "40  aerial action film narrated dull way drama wor...  Positive  \n",
      "41  subpar fantasy thriller works parts first half...  Positive  \n",
      "42                                           showtime   Neutral  \n",
      "43  north america closing reported gross final 150...  Negative  \n",
      "44  ordinary action thriller average 1st half bett...  Positive  \n",
      "45  average 1st half interesting storyline narrate...  Positive  \n",
      "46                                           showtime   Neutral  \n",
      "47  predictable bland village drama deals upperlow...  Positive  \n",
      "48  average 1st half engaging initial start goes p...  Positive  \n",
      "49                                           showtime   Neutral  \n",
      "50  stylish action drama standout action sequences...  Negative  \n",
      "51  decent 1st half first 30mins runs slow note pi...  Positive  \n",
      "52                                           showtime   Neutral  \n",
      "53  movie textbook use vfx limited budget inspire ...  Positive  \n",
      "54  well made superhero story told element hanuman...  Positive  \n",
      "55  good 1st half director good job mixing superhe...  Positive  \n",
      "56                                           showtime   Neutral  \n"
     ]
    }
   ],
   "source": [
    "print(\"\\nTweets with Sentiment Analysis:\")\n",
    "print(df[['text', 'cleaned_tweet', 'sentiment']])"
   ]
  },
  {
   "cell_type": "code",
   "execution_count": 31,
   "id": "1ac4faf4-4d88-4fa7-a947-694c3a189739",
   "metadata": {},
   "outputs": [],
   "source": [
    "df.to_excel('NLP_with_sentiment.xlsx', index=False)\n"
   ]
  },
  {
   "cell_type": "code",
   "execution_count": 29,
   "id": "f04b729a-0f07-49fc-94df-928453ecf609",
   "metadata": {},
   "outputs": [
    {
     "name": "stdout",
     "output_type": "stream",
     "text": [
      "Collecting openpyxl\n",
      "  Downloading openpyxl-3.1.5-py2.py3-none-any.whl.metadata (2.5 kB)\n",
      "Collecting et-xmlfile (from openpyxl)\n",
      "  Downloading et_xmlfile-1.1.0-py3-none-any.whl.metadata (1.8 kB)\n",
      "Downloading openpyxl-3.1.5-py2.py3-none-any.whl (250 kB)\n",
      "Downloading et_xmlfile-1.1.0-py3-none-any.whl (4.7 kB)\n",
      "Installing collected packages: et-xmlfile, openpyxl\n",
      "Successfully installed et-xmlfile-1.1.0 openpyxl-3.1.5\n",
      "Note: you may need to restart the kernel to use updated packages.\n"
     ]
    }
   ],
   "source": [
    "pip install openpyxl"
   ]
  },
  {
   "cell_type": "code",
   "execution_count": null,
   "id": "bd0ae108-0a51-430d-93f7-22f2f6916316",
   "metadata": {},
   "outputs": [],
   "source": []
  }
 ],
 "metadata": {
  "kernelspec": {
   "display_name": "Python 3 (ipykernel)",
   "language": "python",
   "name": "python3"
  },
  "language_info": {
   "codemirror_mode": {
    "name": "ipython",
    "version": 3
   },
   "file_extension": ".py",
   "mimetype": "text/x-python",
   "name": "python",
   "nbconvert_exporter": "python",
   "pygments_lexer": "ipython3",
   "version": "3.10.10"
  }
 },
 "nbformat": 4,
 "nbformat_minor": 5
}
